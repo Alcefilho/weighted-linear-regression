{
  "nbformat": 4,
  "nbformat_minor": 0,
  "metadata": {
    "colab": {
      "name": "Regressão_linear_iterativa .ipynb",
      "provenance": []
    },
    "kernelspec": {
      "name": "python3",
      "display_name": "Python 3"
    }
  },
  "cells": [
    {
      "cell_type": "markdown",
      "metadata": {
        "id": "Ky-k9WghfgWr",
        "colab_type": "text"
      },
      "source": [
        "#Regressão linear Ponderada (WLS)\n"
      ]
    },
    {
      "cell_type": "markdown",
      "metadata": {
        "id": "rm-I6U43_uxm",
        "colab_type": "text"
      },
      "source": [
        "English : Weighted least squares (WLS), also known as weighted linear regression"
      ]
    },
    {
      "cell_type": "markdown",
      "metadata": {
        "id": "CqQ3ZT6h_3GI",
        "colab_type": "text"
      },
      "source": [
        "Feita sem importar nenhuma biblioteca do Python, apenas com código bruto"
      ]
    },
    {
      "cell_type": "markdown",
      "metadata": {
        "id": "jHh9mf4ffjbu",
        "colab_type": "text"
      },
      "source": [
        "Obs: Programa em construção, quero analisar e comparar esse método de regressão com o método usado nas bibliotecas do sklearn e comparar os gráficos dos dois."
      ]
    },
    {
      "cell_type": "markdown",
      "metadata": {
        "id": "vzytsN2X-jB0",
        "colab_type": "text"
      },
      "source": [
        "Obs:  A equação da reta que estamos estudando é :  y = a + bx\n",
        "onde \"a\" é o coeficiente linear e \"b\" é o coeficiente angular "
      ]
    },
    {
      "cell_type": "markdown",
      "metadata": {
        "id": "pu8aQkYofjip",
        "colab_type": "text"
      },
      "source": [
        "##Função para Inputs de valores"
      ]
    },
    {
      "cell_type": "code",
      "metadata": {
        "id": "BXDXv6olPKxF",
        "colab_type": "code",
        "colab": {}
      },
      "source": [
        "def inp(var):\n",
        "  aux=[]\n",
        "  for i in range(var):  \n",
        "      aux.append(float(input (\" \")))\n",
        "  return aux "
      ],
      "execution_count": 1,
      "outputs": []
    },
    {
      "cell_type": "markdown",
      "metadata": {
        "id": "33YDGCy28vmo",
        "colab_type": "text"
      },
      "source": [
        "##Função para interagir com o usuário "
      ]
    },
    {
      "cell_type": "code",
      "metadata": {
        "id": "rIGWuk7affM8",
        "colab_type": "code",
        "colab": {}
      },
      "source": [
        "\n",
        "def prt(num):\n",
        "  if(num == 1):\n",
        "     print(\" \")\n",
        "     print(\"Digite os valores de x:\")\n",
        "  if(num == 2):\n",
        "     print(\" \")\n",
        "     print(\"Digite os valores dos erros de x:\")  \n",
        "  if(num == 3):\n",
        "     print(\" \")\n",
        "     print(\"Digite os valores de y:\")\n",
        "  if(num == 4):\n",
        "     print(\" \")\n",
        "     print(\"Digite os valores dos erros de y:\")"
      ],
      "execution_count": 2,
      "outputs": []
    },
    {
      "cell_type": "markdown",
      "metadata": {
        "id": "YbX_3SPg8_vB",
        "colab_type": "text"
      },
      "source": [
        "##Função para calcular a regressão linear sem peso "
      ]
    },
    {
      "cell_type": "markdown",
      "metadata": {
        "id": "01k0r5gh9IoR",
        "colab_type": "text"
      },
      "source": [
        "Obs : Essa regressão linear simples sem peso é a mesma que o usuário pode encontrar no excell "
      ]
    },
    {
      "cell_type": "code",
      "metadata": {
        "id": "GRaNhoIWVnRm",
        "colab_type": "code",
        "colab": {}
      },
      "source": [
        "def calcular_sem_peso(a,b,n):\n",
        "  zipped_ab = zip(a,b)\n",
        "  tabela_ab = [a * b for a,b in zipped_ab]\n",
        "  zipped_aa = zip(a,a)\n",
        "  tabela_aa = [a * a for a,a in zipped_aa]\n",
        "  zipped_bb = zip(b,b)\n",
        "  tabela_bb = [b * b for b,b in zipped_bb]\n",
        "  soma_a = sum(a) ; soma_b = sum(b)\n",
        "  soma_aa = sum(tabela_aa) ; soma_ab = sum(tabela_ab) ; soma_bb= sum(tabela_bb)\n",
        "  delta = float((n*soma_aa) - (soma_a*soma_a))\n",
        "  A = float(((soma_aa * soma_b)-(soma_a * soma_ab)) / delta)\n",
        "  B = float(((n * soma_ab )-(soma_a * soma_b)) / delta)\n",
        "  argumento_a = soma_aa/delta\n",
        "  argumento_b = n/delta\n",
        "  erro_a = argumento_a ** (1/2)\n",
        "  erro_b = argumento_b ** (1/2)\n",
        "\n",
        "  deno_r=float((((n*soma_aa)-(soma_a ** (2)))*(n*soma_bb)-(soma_b ** (2))**(1/2)))\n",
        "\n",
        "  r=float((n*(soma_ab)-(soma_a)*(soma_b))/deno_r)\n",
        "\n",
        "\n",
        "  return [A,B,erro_a,erro_b,r]\n",
        "\n",
        "\n",
        "\n"
      ],
      "execution_count": 3,
      "outputs": []
    },
    {
      "cell_type": "markdown",
      "metadata": {
        "id": "c8qz__NY9UcI",
        "colab_type": "text"
      },
      "source": [
        "## Função para calcular a Regressão linear Ponderada"
      ]
    },
    {
      "cell_type": "markdown",
      "metadata": {
        "id": "WIHzk7Qs9bGF",
        "colab_type": "text"
      },
      "source": [
        "Obs: É usada quando suas variáveis \"x\" e \"y\" tem incertezas, ou seja, a regressão linear ponderada é mais eficiente onde cada variável tem uma incerteza (\"erro\") associado. "
      ]
    },
    {
      "cell_type": "code",
      "metadata": {
        "id": "8CI1zFj4b6Ra",
        "colab_type": "code",
        "colab": {}
      },
      "source": [
        "def calcular_com_peso(a,b,c,d,n,B):\n",
        "\n",
        "  new=[];w=[]\n",
        "  for i in range(n):\n",
        "    aux = ((d[i])**2 + B*(c[i])**2)**(1/2)\n",
        "    new.append(aux)  \n",
        "  for j in range(n):\n",
        "    aux2=1/(new[j]*new[j])\n",
        "    w.append(aux2)  \n",
        "  zipped_wb = zip(b,w)\n",
        "  tabela_wb = [w * b for w,b in zipped_wb]\n",
        "  zipped_aa = zip(a,a)\n",
        "  tabela_aa = [a * a for a,a in zipped_aa]\n",
        "  zipped_ab = zip(a,b)\n",
        "  tabela_ab = [a * b for a,b in zipped_ab]\n",
        "  zipped_wa = zip(a,w)\n",
        "  tabela_wa = [w * a for w,a in   zipped_wa]\n",
        "  zipped_wab = zip(a,w,y)\n",
        "  tabela_wab =  [w * a * b for w,a,b in zipped_wab]\n",
        "  zipped_wa2 = zip(w,a,a)\n",
        "  tabela_wa2 =  [w * a * a for w,a,a in zipped_wa2]\n",
        "  zipped_bb = zip(b,b)\n",
        "  tabela_bb = [b * b for b,b in zipped_bb]\n",
        "  soma_a = sum(a);soma_b = sum(b);soma_bb= sum(tabela_bb);soma_aa= sum(tabela_aa); soma_ab= sum (tabela_ab)\n",
        "  soma_w = sum(w);soma_wa = sum(tabela_wa);soma_wb = sum(tabela_wb)\n",
        "  soma_wab = sum(tabela_wab);soma_wa2 = sum(tabela_wa2)\n",
        "\n",
        "  deno_r1=float((((n*soma_aa)-(soma_a ** (2)))*(n*soma_bb)-(soma_b ** (2))**(1/2)))\n",
        "\n",
        "  r1=float((n*(soma_ab)-(soma_a)*(soma_b))/deno_r1)\n",
        "\n",
        "  delta1 = float((soma_w)*(soma_wa2) - (soma_wa)*(soma_wa))\n",
        "  a1 = float(((soma_wa2 * soma_wb) - (soma_wa * soma_wab)) / delta1)\n",
        "  b1 = float(((soma_w * soma_wab) - (soma_wa * soma_wb)) /delta1)\n",
        "  argumento_a1 = soma_wa2/delta1\n",
        "  argumento_b1 = soma_w/delta1\n",
        "  erro_a1 = argumento_a1 ** (1/2)\n",
        "  erro_b1 = argumento_b1 ** (1/2)\n",
        "  \n",
        "\n",
        "  return [a1,b1,erro_a1,erro_b1,r1]\n",
        "  \n",
        "  "
      ],
      "execution_count": 4,
      "outputs": []
    },
    {
      "cell_type": "markdown",
      "metadata": {
        "id": "kvNDpMgN98mr",
        "colab_type": "text"
      },
      "source": [
        "## Função que calcula de modo iterativo o teste do coeficiente angular"
      ]
    },
    {
      "cell_type": "code",
      "metadata": {
        "id": "kYr4PQdGDeFk",
        "colab_type": "code",
        "colab": {}
      },
      "source": [
        "#TESTE DO B\n",
        "def test(V1,V2,num): \n",
        " a2=V2[1];a1=V1[1];e1=V1[3];e2=V2[3] \n",
        " if abs(a2-a1)>e1:\n",
        "  aux1=calcular_com_peso(x,ex,y,ey,num,V2[2])\n",
        "  a3=aux1[1]\n",
        "  \n",
        "  if abs(a3-a2)>e2:\n",
        "    aux2=calcular_com_peso(x,ex,y,ey,num,aux1[2])\n",
        "    a4=aux2[1]\n",
        "    e4=aux1[3]\n",
        "    \n",
        "    if abs(a4-a3)>e4:\n",
        "      aux3=calcular_com_peso(x,ex,y,ey,num,aux2[2])\n",
        "      \n",
        "    else:\n",
        "      printar(aux2)\n",
        "  else:\n",
        "   printar (aux1)\n",
        " else:\n",
        "  printar (V2)   "
      ],
      "execution_count": 5,
      "outputs": []
    },
    {
      "cell_type": "markdown",
      "metadata": {
        "id": "oZFr77C1-9QU",
        "colab_type": "text"
      },
      "source": [
        "## Função para printar na tela o resultado final"
      ]
    },
    {
      "cell_type": "code",
      "metadata": {
        "id": "mjL_ox1T2teo",
        "colab_type": "code",
        "colab": {}
      },
      "source": [
        "def printar(var):\n",
        "  print(\"Valor do coeficiente Linear e sua incerteza: ({0:.6f} +- {0:.6f})\".format(var[0],var[2]))\n",
        "  print(\"Valor do coeficiente Angular e sua incerteza: ({0:.6f} +- {0:.6f})\".format(var[1],var[3]))\n",
        "  print(\"Valor do coeficiente de correlação de pearson: {0:.6f}\".format(var[4]))"
      ],
      "execution_count": 6,
      "outputs": []
    },
    {
      "cell_type": "markdown",
      "metadata": {
        "id": "mjo-4Cl__KwS",
        "colab_type": "text"
      },
      "source": [
        "## Programa "
      ]
    },
    {
      "cell_type": "code",
      "metadata": {
        "id": "pRJHu2TuRyit",
        "colab_type": "code",
        "colab": {
          "base_uri": "https://localhost:8080/",
          "height": 976
        },
        "outputId": "0d90c431-11b4-4db5-bd57-dc86b287924d"
      },
      "source": [
        "num=int(input(\"Coloque o numero n: \"))\n",
        "var=str(input(\"A regressão linear que deseja é ponderada?[s/n]: \"))\n",
        "if (var==\"s\" or var== \"S\"):\n",
        "  prt(1)\n",
        "  x=inp(num)\n",
        "  prt(2)\n",
        "  ex=inp(num)\n",
        "  prt(3)\n",
        "  y=inp(num)\n",
        "  prt(4)\n",
        "  ey=inp(num)\n",
        "  V1=calcular_sem_peso(x,y,num)\n",
        "  V2=calcular_com_peso(x,y,ex,ey,num,V1[2])\n",
        "  t=test(V1,V2,num)\n",
        "  print(t)\n",
        "  #graph(x,y,V1[1],V1[2],num)\n",
        "if (var==\"n\" or var== \"N\"):\n",
        "  prt(1)\n",
        "  x=inp(num)\n",
        "  prt(3)\n",
        "  y=inp(num) \n",
        "  V1=calcular_sem_peso(x,y,num)\n",
        "  printar(V1)\n",
        "  #pontos(x,y,V1[1],V1[2],num)\n",
        "\n"
      ],
      "execution_count": 8,
      "outputs": [
        {
          "output_type": "stream",
          "text": [
            "Coloque o numero n: 10\n",
            "A regressão linear que deseja é ponderada?[s/n]: s\n",
            " \n",
            "Digite os valores de x:\n",
            " 10.4\n",
            " 5.44\n",
            " 10.256\n",
            " 15.4\n",
            " 0.25\n",
            " 65\n",
            " 154\n",
            " 874.4\n",
            " 65\n",
            " 56\n",
            " \n",
            "Digite os valores dos erros de x:\n",
            " 0.12\n",
            " 0.545\n",
            " 0.365\n",
            " 0.989\n",
            " 0.554\n",
            " 0.142\n",
            " 0.547\n",
            " 0.512\n",
            " 0.471\n",
            " 0.213\n",
            " \n",
            "Digite os valores de y:\n",
            " 4\n",
            " 5\n",
            " 6\n",
            " 7\n",
            " 8\n",
            " 10\n",
            " 100\n",
            " 56.6\n",
            " 54.23\n",
            " 98\n",
            " \n",
            "Digite os valores dos erros de y:\n",
            " 0.12\n",
            " 0.144\n",
            " 0.022\n",
            " 0.0003\n",
            " 0.2223\n",
            " 0.2333333\n",
            " 0.000006\n",
            " 0.20102\n",
            " 0.3232\n",
            " 0.2659\n",
            "Valor do coeficiente Linear e sua incerteza: (-1.247463 +--1.247463)\n",
            "Valor do coeficiente Angular e sua incerteza: (0.119437 +-0.119437)\n",
            "Valor do coeficiente de correlação: 0.000003\n",
            "None\n"
          ],
          "name": "stdout"
        }
      ]
    },
    {
      "cell_type": "markdown",
      "metadata": {
        "id": "O6XlvSux_PNa",
        "colab_type": "text"
      },
      "source": [
        "## Em construção (gráficos)"
      ]
    },
    {
      "cell_type": "code",
      "metadata": {
        "id": "DXdyLRN-ffoi",
        "colab_type": "code",
        "colab": {}
      },
      "source": [
        "#######################################\n",
        "#>>>>>>Implementação de Graficos<<<<<<#\n",
        "#######################################\n",
        "#import pandas as pd                  #  \n",
        "#import numpy as np                   #\n",
        "#import matplotlib.pyplot as plt      #\n",
        "#def graph(a,b,x,n):                  #\n",
        "#  y=[];                              #\n",
        "#  for i in range(n-1):               #\n",
        "#    y[i]=a + (b*x)                   #  \n",
        "#  plt.plot(x, y, lw=1.5)             #\n",
        "#  plt.title(\"Regressão linear:\")     #\n",
        "#  plt.xlabel(\"X\") ; plt.ylabel(\"Y\")  #\n",
        "#  z=plt.show()                       # \n",
        "#  return z                           #\n",
        "#######################################"
      ],
      "execution_count": null,
      "outputs": []
    },
    {
      "cell_type": "code",
      "metadata": {
        "id": "9bYJGwzQ6fy8",
        "colab_type": "code",
        "colab": {}
      },
      "source": [
        "#######################################\n",
        "#>>>>>>Implementação de Graficos<<<<<<#\n",
        "#######################################\n",
        "#import pandas as pd                  #\n",
        "#import numpy as np                   #\n",
        "#import matplotlib.pyplot as plt      #\n",
        "#def pontos(x,y,a,b,n):               #\n",
        "#  plt.plot(x, y, lw=1.5)             # \n",
        "#  f=[];                              #\n",
        "#  for i in range(n):                 #\n",
        "#    aux = a + (b*x[i])               #\n",
        "#    f.append(aux)                    #\n",
        "#  plt.scatter(x, y, lw=1.5)          #\n",
        "#  plt.title(\"Regressão linear:\")     #\n",
        "#  plt.xlabel(\"X\") ; plt.ylabel(\"Y\")  #\n",
        "#  plt.grid()                         # \n",
        "#  z=plt.show()                       #\n",
        "#  return z                           #\n",
        "#######################################"
      ],
      "execution_count": null,
      "outputs": []
    }
  ]
}